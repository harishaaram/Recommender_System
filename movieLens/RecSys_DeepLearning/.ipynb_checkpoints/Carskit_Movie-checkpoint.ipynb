{
 "cells": [
  {
   "cell_type": "markdown",
   "metadata": {},
   "source": [
    "# CARSKIT_ MOVIE DATASET\n",
    "[https://github.com/harishaaram/CARSKit/tree/master/context-aware_data_sets]"
   ]
  },
  {
   "cell_type": "code",
   "execution_count": 1,
   "metadata": {},
   "outputs": [
    {
     "name": "stderr",
     "output_type": "stream",
     "text": [
      "/usr/local/lib/python2.7/dist-packages/sklearn/cross_validation.py:44: DeprecationWarning: This module was deprecated in version 0.18 in favor of the model_selection module into which all the refactored classes and functions are moved. Also note that the interface of the new CV iterators are different from that of this module. This module will be removed in 0.20.\n",
      "  \"This module will be removed in 0.20.\", DeprecationWarning)\n"
     ]
    }
   ],
   "source": [
    "import numpy as np\n",
    "import pandas as pd\n",
    "\n",
    "from sklearn import cross_validation as cv\n",
    "import recommenders\n",
    "import evaluation"
   ]
  },
  {
   "cell_type": "markdown",
   "metadata": {},
   "source": [
    "### Reading dataset:"
   ]
  },
  {
   "cell_type": "code",
   "execution_count": 2,
   "metadata": {},
   "outputs": [],
   "source": [
    "# colname = ['user_id','item_id','rating','Time','Location','Companion']\n",
    "df = pd.read_csv('Movie_DePaulMovie/ratings.txt', sep=',')\n"
   ]
  },
  {
   "cell_type": "code",
   "execution_count": 3,
   "metadata": {},
   "outputs": [
    {
     "data": {
      "text/html": [
       "<div>\n",
       "<table border=\"1\" class=\"dataframe\">\n",
       "  <thead>\n",
       "    <tr style=\"text-align: right;\">\n",
       "      <th></th>\n",
       "      <th>userid</th>\n",
       "      <th>itemid</th>\n",
       "      <th>rating</th>\n",
       "      <th>Time</th>\n",
       "      <th>Location</th>\n",
       "      <th>Companion</th>\n",
       "    </tr>\n",
       "  </thead>\n",
       "  <tbody>\n",
       "    <tr>\n",
       "      <th>0</th>\n",
       "      <td>1123</td>\n",
       "      <td>tt1499658</td>\n",
       "      <td>2</td>\n",
       "      <td>NaN</td>\n",
       "      <td>NaN</td>\n",
       "      <td>NaN</td>\n",
       "    </tr>\n",
       "    <tr>\n",
       "      <th>1</th>\n",
       "      <td>1123</td>\n",
       "      <td>tt0405422</td>\n",
       "      <td>4</td>\n",
       "      <td>NaN</td>\n",
       "      <td>NaN</td>\n",
       "      <td>NaN</td>\n",
       "    </tr>\n",
       "    <tr>\n",
       "      <th>2</th>\n",
       "      <td>1123</td>\n",
       "      <td>tt0109830</td>\n",
       "      <td>5</td>\n",
       "      <td>NaN</td>\n",
       "      <td>NaN</td>\n",
       "      <td>NaN</td>\n",
       "    </tr>\n",
       "    <tr>\n",
       "      <th>3</th>\n",
       "      <td>1123</td>\n",
       "      <td>tt0088763</td>\n",
       "      <td>3</td>\n",
       "      <td>NaN</td>\n",
       "      <td>NaN</td>\n",
       "      <td>NaN</td>\n",
       "    </tr>\n",
       "    <tr>\n",
       "      <th>4</th>\n",
       "      <td>1123</td>\n",
       "      <td>tt0133093</td>\n",
       "      <td>3</td>\n",
       "      <td>NaN</td>\n",
       "      <td>NaN</td>\n",
       "      <td>NaN</td>\n",
       "    </tr>\n",
       "  </tbody>\n",
       "</table>\n",
       "</div>"
      ],
      "text/plain": [
       "   userid     itemid  rating Time Location Companion\n",
       "0    1123  tt1499658       2  NaN      NaN       NaN\n",
       "1    1123  tt0405422       4  NaN      NaN       NaN\n",
       "2    1123  tt0109830       5  NaN      NaN       NaN\n",
       "3    1123  tt0088763       3  NaN      NaN       NaN\n",
       "4    1123  tt0133093       3  NaN      NaN       NaN"
      ]
     },
     "execution_count": 3,
     "metadata": {},
     "output_type": "execute_result"
    }
   ],
   "source": [
    "df.head()"
   ]
  },
  {
   "cell_type": "code",
   "execution_count": 4,
   "metadata": {},
   "outputs": [
    {
     "name": "stdout",
     "output_type": "stream",
     "text": [
      "total no. of users, movies:97,79\n"
     ]
    }
   ],
   "source": [
    "# Total no.of users\n",
    "users = df.userid.unique().shape[0]\n",
    "items = df.itemid.unique().shape[0]\n",
    "print \"total no. of users, movies:\"+ str(users)+\",\"+str(items)"
   ]
  },
  {
   "cell_type": "markdown",
   "metadata": {},
   "source": [
    "## Creating DataFrames:"
   ]
  },
  {
   "cell_type": "code",
   "execution_count": 5,
   "metadata": {},
   "outputs": [
    {
     "data": {
      "text/plain": [
       "5043"
      ]
     },
     "execution_count": 5,
     "metadata": {},
     "output_type": "execute_result"
    }
   ],
   "source": [
    "#total no. of rows\n",
    "df.shape[0]"
   ]
  },
  {
   "cell_type": "markdown",
   "metadata": {},
   "source": [
    "### Droping empty values\n",
    "[https://pandas.pydata.org/pandas-docs/stable/generated/pandas.DataFrame.dropna.html]\n"
   ]
  },
  {
   "cell_type": "code",
   "execution_count": 6,
   "metadata": {},
   "outputs": [
    {
     "data": {
      "text/plain": [
       "3595"
      ]
     },
     "execution_count": 6,
     "metadata": {},
     "output_type": "execute_result"
    }
   ],
   "source": [
    "df_nonEmpty = df.dropna()\n",
    "df_nonEmpty.shape[0]"
   ]
  },
  {
   "cell_type": "code",
   "execution_count": 7,
   "metadata": {},
   "outputs": [
    {
     "data": {
      "text/html": [
       "<div>\n",
       "<table border=\"1\" class=\"dataframe\">\n",
       "  <thead>\n",
       "    <tr style=\"text-align: right;\">\n",
       "      <th></th>\n",
       "      <th>userid</th>\n",
       "      <th>itemid</th>\n",
       "      <th>rating</th>\n",
       "      <th>Time</th>\n",
       "      <th>Location</th>\n",
       "      <th>Companion</th>\n",
       "    </tr>\n",
       "  </thead>\n",
       "  <tbody>\n",
       "    <tr>\n",
       "      <th>148</th>\n",
       "      <td>1003</td>\n",
       "      <td>tt0454876</td>\n",
       "      <td>1</td>\n",
       "      <td>Weekday</td>\n",
       "      <td>Cinema</td>\n",
       "      <td>Alone</td>\n",
       "    </tr>\n",
       "    <tr>\n",
       "      <th>149</th>\n",
       "      <td>1003</td>\n",
       "      <td>tt0120912</td>\n",
       "      <td>1</td>\n",
       "      <td>Weekday</td>\n",
       "      <td>Cinema</td>\n",
       "      <td>Alone</td>\n",
       "    </tr>\n",
       "    <tr>\n",
       "      <th>150</th>\n",
       "      <td>1003</td>\n",
       "      <td>tt3793764</td>\n",
       "      <td>1</td>\n",
       "      <td>Weekday</td>\n",
       "      <td>Cinema</td>\n",
       "      <td>Alone</td>\n",
       "    </tr>\n",
       "    <tr>\n",
       "      <th>151</th>\n",
       "      <td>1003</td>\n",
       "      <td>tt0114148</td>\n",
       "      <td>1</td>\n",
       "      <td>Weekday</td>\n",
       "      <td>Cinema</td>\n",
       "      <td>Alone</td>\n",
       "    </tr>\n",
       "    <tr>\n",
       "      <th>152</th>\n",
       "      <td>1003</td>\n",
       "      <td>tt0110357</td>\n",
       "      <td>1</td>\n",
       "      <td>Weekday</td>\n",
       "      <td>Cinema</td>\n",
       "      <td>Alone</td>\n",
       "    </tr>\n",
       "  </tbody>\n",
       "</table>\n",
       "</div>"
      ],
      "text/plain": [
       "     userid     itemid  rating     Time Location Companion\n",
       "148    1003  tt0454876       1  Weekday   Cinema     Alone\n",
       "149    1003  tt0120912       1  Weekday   Cinema     Alone\n",
       "150    1003  tt3793764       1  Weekday   Cinema     Alone\n",
       "151    1003  tt0114148       1  Weekday   Cinema     Alone\n",
       "152    1003  tt0110357       1  Weekday   Cinema     Alone"
      ]
     },
     "execution_count": 7,
     "metadata": {},
     "output_type": "execute_result"
    }
   ],
   "source": [
    "df_nonEmpty.head()"
   ]
  },
  {
   "cell_type": "markdown",
   "metadata": {},
   "source": [
    "### Dropping columns:"
   ]
  },
  {
   "cell_type": "code",
   "execution_count": 8,
   "metadata": {},
   "outputs": [
    {
     "data": {
      "text/html": [
       "<div>\n",
       "<table border=\"1\" class=\"dataframe\">\n",
       "  <thead>\n",
       "    <tr style=\"text-align: right;\">\n",
       "      <th></th>\n",
       "      <th>userid</th>\n",
       "      <th>itemid</th>\n",
       "      <th>rating</th>\n",
       "    </tr>\n",
       "  </thead>\n",
       "  <tbody>\n",
       "    <tr>\n",
       "      <th>0</th>\n",
       "      <td>1123</td>\n",
       "      <td>tt1499658</td>\n",
       "      <td>2</td>\n",
       "    </tr>\n",
       "    <tr>\n",
       "      <th>1</th>\n",
       "      <td>1123</td>\n",
       "      <td>tt0405422</td>\n",
       "      <td>4</td>\n",
       "    </tr>\n",
       "    <tr>\n",
       "      <th>2</th>\n",
       "      <td>1123</td>\n",
       "      <td>tt0109830</td>\n",
       "      <td>5</td>\n",
       "    </tr>\n",
       "    <tr>\n",
       "      <th>3</th>\n",
       "      <td>1123</td>\n",
       "      <td>tt0088763</td>\n",
       "      <td>3</td>\n",
       "    </tr>\n",
       "    <tr>\n",
       "      <th>4</th>\n",
       "      <td>1123</td>\n",
       "      <td>tt0133093</td>\n",
       "      <td>3</td>\n",
       "    </tr>\n",
       "  </tbody>\n",
       "</table>\n",
       "</div>"
      ],
      "text/plain": [
       "   userid     itemid  rating\n",
       "0    1123  tt1499658       2\n",
       "1    1123  tt0405422       4\n",
       "2    1123  tt0109830       5\n",
       "3    1123  tt0088763       3\n",
       "4    1123  tt0133093       3"
      ]
     },
     "execution_count": 8,
     "metadata": {},
     "output_type": "execute_result"
    }
   ],
   "source": [
    "# dropping of the last 3 columns\n",
    "# df.dropna(axis=1, how='any')\n",
    "df_colDel = df.drop(df.columns[[3 ,4, 5]], axis=1)  # df.columns is zero-based pd.Index \n",
    "df_colDel.head()"
   ]
  },
  {
   "cell_type": "markdown",
   "metadata": {},
   "source": [
    "## Modeling: Item similarity collaborative filtering"
   ]
  },
  {
   "cell_type": "code",
   "execution_count": 9,
   "metadata": {
    "collapsed": true
   },
   "outputs": [],
   "source": [
    "train, test = cv.train_test_split(df_colDel, test_size = 0.25)"
   ]
  },
  {
   "cell_type": "code",
   "execution_count": 10,
   "metadata": {
    "collapsed": true
   },
   "outputs": [],
   "source": [
    "is_model = recommenders.item_similarity_recommender_py()\n",
    "is_model.create(train, 'userid', 'itemid')"
   ]
  },
  {
   "cell_type": "markdown",
   "metadata": {},
   "source": [
    "#### Personalized movie recommendation:"
   ]
  },
  {
   "cell_type": "code",
   "execution_count": 11,
   "metadata": {
    "collapsed": true
   },
   "outputs": [],
   "source": [
    "users = df.userid.unique()"
   ]
  },
  {
   "cell_type": "code",
   "execution_count": 12,
   "metadata": {},
   "outputs": [
    {
     "name": "stdout",
     "output_type": "stream",
     "text": [
      "Training data moviesID for the user userid: 1021:\n",
      "tt1099212\n",
      "tt0120338\n",
      "tt0114148\n",
      "tt0110475\n",
      "tt0088763\n",
      "tt0289879\n",
      "Recommendation process output:\n",
      "No. of unique movies for the user: 6\n",
      "no. of unique movies in the training set: 79\n",
      "Non zero values in cooccurence_matrix :446\n"
     ]
    },
    {
     "data": {
      "text/html": [
       "<div>\n",
       "<table border=\"1\" class=\"dataframe\">\n",
       "  <thead>\n",
       "    <tr style=\"text-align: right;\">\n",
       "      <th></th>\n",
       "      <th>user_id</th>\n",
       "      <th>movie</th>\n",
       "      <th>score</th>\n",
       "      <th>rank</th>\n",
       "    </tr>\n",
       "  </thead>\n",
       "  <tbody>\n",
       "    <tr>\n",
       "      <th>0</th>\n",
       "      <td>1021.0</td>\n",
       "      <td>tt3793764</td>\n",
       "      <td>0.230420</td>\n",
       "      <td>1.0</td>\n",
       "    </tr>\n",
       "    <tr>\n",
       "      <th>1</th>\n",
       "      <td>1021.0</td>\n",
       "      <td>tt0109830</td>\n",
       "      <td>0.228173</td>\n",
       "      <td>2.0</td>\n",
       "    </tr>\n",
       "    <tr>\n",
       "      <th>2</th>\n",
       "      <td>1021.0</td>\n",
       "      <td>tt0110357</td>\n",
       "      <td>0.219329</td>\n",
       "      <td>3.0</td>\n",
       "    </tr>\n",
       "    <tr>\n",
       "      <th>3</th>\n",
       "      <td>1021.0</td>\n",
       "      <td>tt1375666</td>\n",
       "      <td>0.215793</td>\n",
       "      <td>4.0</td>\n",
       "    </tr>\n",
       "    <tr>\n",
       "      <th>4</th>\n",
       "      <td>1021.0</td>\n",
       "      <td>tt0133093</td>\n",
       "      <td>0.215429</td>\n",
       "      <td>5.0</td>\n",
       "    </tr>\n",
       "    <tr>\n",
       "      <th>5</th>\n",
       "      <td>1021.0</td>\n",
       "      <td>tt0111161</td>\n",
       "      <td>0.205877</td>\n",
       "      <td>6.0</td>\n",
       "    </tr>\n",
       "    <tr>\n",
       "      <th>6</th>\n",
       "      <td>1021.0</td>\n",
       "      <td>tt0382625</td>\n",
       "      <td>0.204304</td>\n",
       "      <td>7.0</td>\n",
       "    </tr>\n",
       "    <tr>\n",
       "      <th>7</th>\n",
       "      <td>1021.0</td>\n",
       "      <td>tt0993846</td>\n",
       "      <td>0.195905</td>\n",
       "      <td>8.0</td>\n",
       "    </tr>\n",
       "    <tr>\n",
       "      <th>8</th>\n",
       "      <td>1021.0</td>\n",
       "      <td>tt0266543</td>\n",
       "      <td>0.193906</td>\n",
       "      <td>9.0</td>\n",
       "    </tr>\n",
       "    <tr>\n",
       "      <th>9</th>\n",
       "      <td>1021.0</td>\n",
       "      <td>tt3510098</td>\n",
       "      <td>0.192839</td>\n",
       "      <td>10.0</td>\n",
       "    </tr>\n",
       "  </tbody>\n",
       "</table>\n",
       "</div>"
      ],
      "text/plain": [
       "   user_id      movie     score  rank\n",
       "0   1021.0  tt3793764  0.230420   1.0\n",
       "1   1021.0  tt0109830  0.228173   2.0\n",
       "2   1021.0  tt0110357  0.219329   3.0\n",
       "3   1021.0  tt1375666  0.215793   4.0\n",
       "4   1021.0  tt0133093  0.215429   5.0\n",
       "5   1021.0  tt0111161  0.205877   6.0\n",
       "6   1021.0  tt0382625  0.204304   7.0\n",
       "7   1021.0  tt0993846  0.195905   8.0\n",
       "8   1021.0  tt0266543  0.193906   9.0\n",
       "9   1021.0  tt3510098  0.192839  10.0"
      ]
     },
     "execution_count": 12,
     "metadata": {},
     "output_type": "execute_result"
    }
   ],
   "source": [
    "#Print the movies for the user in training data\n",
    "user_id = users[5]\n",
    "user_items = is_model.get_user_items(user_id)\n",
    "\n",
    "print(\"Training data moviesID for the user userid: %s:\" % user_id)\n",
    "\n",
    "for user_item in user_items:\n",
    "    print(user_item)\n",
    "\n",
    "print(\"Recommendation process output:\")\n",
    "\n",
    "#Recommend movies for the user using personalized model\n",
    "is_model.recommend(user_id)"
   ]
  },
  {
   "cell_type": "code",
   "execution_count": null,
   "metadata": {
    "collapsed": true
   },
   "outputs": [],
   "source": []
  }
 ],
 "metadata": {
  "kernelspec": {
   "display_name": "Python 2",
   "language": "python",
   "name": "python2"
  },
  "language_info": {
   "codemirror_mode": {
    "name": "ipython",
    "version": 2
   },
   "file_extension": ".py",
   "mimetype": "text/x-python",
   "name": "python",
   "nbconvert_exporter": "python",
   "pygments_lexer": "ipython2",
   "version": "2.7.12"
  }
 },
 "nbformat": 4,
 "nbformat_minor": 2
}
