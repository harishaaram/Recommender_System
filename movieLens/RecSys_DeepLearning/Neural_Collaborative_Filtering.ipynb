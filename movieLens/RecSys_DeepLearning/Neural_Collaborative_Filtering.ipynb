{
 "cells": [
  {
   "cell_type": "markdown",
   "metadata": {},
   "source": [
    "# Building a neutral net for coolaborative filtering"
   ]
  },
  {
   "cell_type": "code",
   "execution_count": 1,
   "metadata": {},
   "outputs": [],
   "source": [
    "import numpy as np\n",
    "import pandas as pd\n",
    "\n",
    "import tensorflow as tf"
   ]
  },
  {
   "cell_type": "code",
   "execution_count": 2,
   "metadata": {},
   "outputs": [
    {
     "name": "stdout",
     "output_type": "stream",
     "text": [
      "This non-commercial license of GraphLab Create for academic use is assigned to hramachandran@hawk.iit.edu and will expire on June 26, 2018.\n"
     ]
    },
    {
     "name": "stderr",
     "output_type": "stream",
     "text": [
      "[INFO] graphlab.cython.cy_server: GraphLab Create v2.1 started. Logging: /tmp/graphlab_server_1500747755.log\n"
     ]
    },
    {
     "data": {
      "text/html": [
       "<pre>Finished parsing file /home/harish/PycharmProjects/Recommender_System/movieLens/RecSys_DeepLearning/Movie_DePaulMovie/ratings.txt</pre>"
      ],
      "text/plain": [
       "Finished parsing file /home/harish/PycharmProjects/Recommender_System/movieLens/RecSys_DeepLearning/Movie_DePaulMovie/ratings.txt"
      ]
     },
     "metadata": {},
     "output_type": "display_data"
    },
    {
     "data": {
      "text/html": [
       "<pre>Parsing completed. Parsed 100 lines in 0.020426 secs.</pre>"
      ],
      "text/plain": [
       "Parsing completed. Parsed 100 lines in 0.020426 secs."
      ]
     },
     "metadata": {},
     "output_type": "display_data"
    },
    {
     "name": "stdout",
     "output_type": "stream",
     "text": [
      "------------------------------------------------------\n",
      "Inferred types from first 100 line(s) of file as \n",
      "column_type_hints=[int,str,int,str,str,str]\n",
      "If parsing fails due to incorrect types, you can correct\n",
      "the inferred type list above and pass it to read_csv in\n",
      "the column_type_hints argument\n",
      "------------------------------------------------------\n"
     ]
    },
    {
     "data": {
      "text/html": [
       "<pre>Finished parsing file /home/harish/PycharmProjects/Recommender_System/movieLens/RecSys_DeepLearning/Movie_DePaulMovie/ratings.txt</pre>"
      ],
      "text/plain": [
       "Finished parsing file /home/harish/PycharmProjects/Recommender_System/movieLens/RecSys_DeepLearning/Movie_DePaulMovie/ratings.txt"
      ]
     },
     "metadata": {},
     "output_type": "display_data"
    },
    {
     "data": {
      "text/html": [
       "<pre>Parsing completed. Parsed 5043 lines in 0.014755 secs.</pre>"
      ],
      "text/plain": [
       "Parsing completed. Parsed 5043 lines in 0.014755 secs."
      ]
     },
     "metadata": {},
     "output_type": "display_data"
    }
   ],
   "source": [
    "#Data \n",
    "# # colname = ['user_id','item_id','rating','Time','Location','Companion']\n",
    "# df = pd.read_csv('Movie_DePaulMovie/ratings.txt', sep=',')\n",
    "import graphlab as gl\n",
    "sf = gl.SFrame.read_csv('Movie_DePaulMovie/ratings.txt', sep=',')"
   ]
  },
  {
   "cell_type": "code",
   "execution_count": 3,
   "metadata": {},
   "outputs": [
    {
     "data": {
      "text/html": [
       "<div style=\"max-height:1000px;max-width:1500px;overflow:auto;\"><table frame=\"box\" rules=\"cols\">\n",
       "    <tr>\n",
       "        <th style=\"padding-left: 1em; padding-right: 1em; text-align: center\">userid</th>\n",
       "        <th style=\"padding-left: 1em; padding-right: 1em; text-align: center\">itemid</th>\n",
       "        <th style=\"padding-left: 1em; padding-right: 1em; text-align: center\">rating</th>\n",
       "        <th style=\"padding-left: 1em; padding-right: 1em; text-align: center\">Time</th>\n",
       "        <th style=\"padding-left: 1em; padding-right: 1em; text-align: center\">Location</th>\n",
       "        <th style=\"padding-left: 1em; padding-right: 1em; text-align: center\">Companion</th>\n",
       "    </tr>\n",
       "    <tr>\n",
       "        <td style=\"padding-left: 1em; padding-right: 1em; text-align: center; vertical-align: top\">1082</td>\n",
       "        <td style=\"padding-left: 1em; padding-right: 1em; text-align: center; vertical-align: top\">tt1637706</td>\n",
       "        <td style=\"padding-left: 1em; padding-right: 1em; text-align: center; vertical-align: top\">2</td>\n",
       "        <td style=\"padding-left: 1em; padding-right: 1em; text-align: center; vertical-align: top\">Weekday</td>\n",
       "        <td style=\"padding-left: 1em; padding-right: 1em; text-align: center; vertical-align: top\">Home</td>\n",
       "        <td style=\"padding-left: 1em; padding-right: 1em; text-align: center; vertical-align: top\">Partner</td>\n",
       "    </tr>\n",
       "    <tr>\n",
       "        <td style=\"padding-left: 1em; padding-right: 1em; text-align: center; vertical-align: top\">1082</td>\n",
       "        <td style=\"padding-left: 1em; padding-right: 1em; text-align: center; vertical-align: top\">tt0343660</td>\n",
       "        <td style=\"padding-left: 1em; padding-right: 1em; text-align: center; vertical-align: top\">2</td>\n",
       "        <td style=\"padding-left: 1em; padding-right: 1em; text-align: center; vertical-align: top\">Weekday</td>\n",
       "        <td style=\"padding-left: 1em; padding-right: 1em; text-align: center; vertical-align: top\">Home</td>\n",
       "        <td style=\"padding-left: 1em; padding-right: 1em; text-align: center; vertical-align: top\">Partner</td>\n",
       "    </tr>\n",
       "    <tr>\n",
       "        <td style=\"padding-left: 1em; padding-right: 1em; text-align: center; vertical-align: top\">1082</td>\n",
       "        <td style=\"padding-left: 1em; padding-right: 1em; text-align: center; vertical-align: top\">tt1133985</td>\n",
       "        <td style=\"padding-left: 1em; padding-right: 1em; text-align: center; vertical-align: top\">1</td>\n",
       "        <td style=\"padding-left: 1em; padding-right: 1em; text-align: center; vertical-align: top\">Weekday</td>\n",
       "        <td style=\"padding-left: 1em; padding-right: 1em; text-align: center; vertical-align: top\">Home</td>\n",
       "        <td style=\"padding-left: 1em; padding-right: 1em; text-align: center; vertical-align: top\">Partner</td>\n",
       "    </tr>\n",
       "    <tr>\n",
       "        <td style=\"padding-left: 1em; padding-right: 1em; text-align: center; vertical-align: top\">1082</td>\n",
       "        <td style=\"padding-left: 1em; padding-right: 1em; text-align: center; vertical-align: top\">tt1099212</td>\n",
       "        <td style=\"padding-left: 1em; padding-right: 1em; text-align: center; vertical-align: top\">1</td>\n",
       "        <td style=\"padding-left: 1em; padding-right: 1em; text-align: center; vertical-align: top\">Weekday</td>\n",
       "        <td style=\"padding-left: 1em; padding-right: 1em; text-align: center; vertical-align: top\">Home</td>\n",
       "        <td style=\"padding-left: 1em; padding-right: 1em; text-align: center; vertical-align: top\">Partner</td>\n",
       "    </tr>\n",
       "    <tr>\n",
       "        <td style=\"padding-left: 1em; padding-right: 1em; text-align: center; vertical-align: top\">1082</td>\n",
       "        <td style=\"padding-left: 1em; padding-right: 1em; text-align: center; vertical-align: top\">tt3793764</td>\n",
       "        <td style=\"padding-left: 1em; padding-right: 1em; text-align: center; vertical-align: top\">1</td>\n",
       "        <td style=\"padding-left: 1em; padding-right: 1em; text-align: center; vertical-align: top\">Weekend</td>\n",
       "        <td style=\"padding-left: 1em; padding-right: 1em; text-align: center; vertical-align: top\">Home</td>\n",
       "        <td style=\"padding-left: 1em; padding-right: 1em; text-align: center; vertical-align: top\">Partner</td>\n",
       "    </tr>\n",
       "    <tr>\n",
       "        <td style=\"padding-left: 1em; padding-right: 1em; text-align: center; vertical-align: top\">1082</td>\n",
       "        <td style=\"padding-left: 1em; padding-right: 1em; text-align: center; vertical-align: top\">tt0413267</td>\n",
       "        <td style=\"padding-left: 1em; padding-right: 1em; text-align: center; vertical-align: top\">1</td>\n",
       "        <td style=\"padding-left: 1em; padding-right: 1em; text-align: center; vertical-align: top\">Weekend</td>\n",
       "        <td style=\"padding-left: 1em; padding-right: 1em; text-align: center; vertical-align: top\">Home</td>\n",
       "        <td style=\"padding-left: 1em; padding-right: 1em; text-align: center; vertical-align: top\">Partner</td>\n",
       "    </tr>\n",
       "    <tr>\n",
       "        <td style=\"padding-left: 1em; padding-right: 1em; text-align: center; vertical-align: top\">1082</td>\n",
       "        <td style=\"padding-left: 1em; padding-right: 1em; text-align: center; vertical-align: top\">tt1637706</td>\n",
       "        <td style=\"padding-left: 1em; padding-right: 1em; text-align: center; vertical-align: top\">2</td>\n",
       "        <td style=\"padding-left: 1em; padding-right: 1em; text-align: center; vertical-align: top\">Weekend</td>\n",
       "        <td style=\"padding-left: 1em; padding-right: 1em; text-align: center; vertical-align: top\">Home</td>\n",
       "        <td style=\"padding-left: 1em; padding-right: 1em; text-align: center; vertical-align: top\">Partner</td>\n",
       "    </tr>\n",
       "    <tr>\n",
       "        <td style=\"padding-left: 1em; padding-right: 1em; text-align: center; vertical-align: top\">1082</td>\n",
       "        <td style=\"padding-left: 1em; padding-right: 1em; text-align: center; vertical-align: top\">tt0343660</td>\n",
       "        <td style=\"padding-left: 1em; padding-right: 1em; text-align: center; vertical-align: top\">1</td>\n",
       "        <td style=\"padding-left: 1em; padding-right: 1em; text-align: center; vertical-align: top\">Weekend</td>\n",
       "        <td style=\"padding-left: 1em; padding-right: 1em; text-align: center; vertical-align: top\">Home</td>\n",
       "        <td style=\"padding-left: 1em; padding-right: 1em; text-align: center; vertical-align: top\">Partner</td>\n",
       "    </tr>\n",
       "    <tr>\n",
       "        <td style=\"padding-left: 1em; padding-right: 1em; text-align: center; vertical-align: top\">1082</td>\n",
       "        <td style=\"padding-left: 1em; padding-right: 1em; text-align: center; vertical-align: top\">tt1133985</td>\n",
       "        <td style=\"padding-left: 1em; padding-right: 1em; text-align: center; vertical-align: top\">1</td>\n",
       "        <td style=\"padding-left: 1em; padding-right: 1em; text-align: center; vertical-align: top\">Weekend</td>\n",
       "        <td style=\"padding-left: 1em; padding-right: 1em; text-align: center; vertical-align: top\">Home</td>\n",
       "        <td style=\"padding-left: 1em; padding-right: 1em; text-align: center; vertical-align: top\">Partner</td>\n",
       "    </tr>\n",
       "    <tr>\n",
       "        <td style=\"padding-left: 1em; padding-right: 1em; text-align: center; vertical-align: top\">1082</td>\n",
       "        <td style=\"padding-left: 1em; padding-right: 1em; text-align: center; vertical-align: top\">tt1099212</td>\n",
       "        <td style=\"padding-left: 1em; padding-right: 1em; text-align: center; vertical-align: top\">1</td>\n",
       "        <td style=\"padding-left: 1em; padding-right: 1em; text-align: center; vertical-align: top\">Weekend</td>\n",
       "        <td style=\"padding-left: 1em; padding-right: 1em; text-align: center; vertical-align: top\">Home</td>\n",
       "        <td style=\"padding-left: 1em; padding-right: 1em; text-align: center; vertical-align: top\">Partner</td>\n",
       "    </tr>\n",
       "</table>\n",
       "[10 rows x 6 columns]<br/>\n",
       "</div>"
      ],
      "text/plain": [
       "Columns:\n",
       "\tuserid\tint\n",
       "\titemid\tstr\n",
       "\trating\tint\n",
       "\tTime\tstr\n",
       "\tLocation\tstr\n",
       "\tCompanion\tstr\n",
       "\n",
       "Rows: 10\n",
       "\n",
       "Data:\n",
       "+--------+-----------+--------+---------+----------+-----------+\n",
       "| userid |   itemid  | rating |   Time  | Location | Companion |\n",
       "+--------+-----------+--------+---------+----------+-----------+\n",
       "|  1082  | tt1637706 |   2    | Weekday |   Home   |  Partner  |\n",
       "|  1082  | tt0343660 |   2    | Weekday |   Home   |  Partner  |\n",
       "|  1082  | tt1133985 |   1    | Weekday |   Home   |  Partner  |\n",
       "|  1082  | tt1099212 |   1    | Weekday |   Home   |  Partner  |\n",
       "|  1082  | tt3793764 |   1    | Weekend |   Home   |  Partner  |\n",
       "|  1082  | tt0413267 |   1    | Weekend |   Home   |  Partner  |\n",
       "|  1082  | tt1637706 |   2    | Weekend |   Home   |  Partner  |\n",
       "|  1082  | tt0343660 |   1    | Weekend |   Home   |  Partner  |\n",
       "|  1082  | tt1133985 |   1    | Weekend |   Home   |  Partner  |\n",
       "|  1082  | tt1099212 |   1    | Weekend |   Home   |  Partner  |\n",
       "+--------+-----------+--------+---------+----------+-----------+\n",
       "[10 rows x 6 columns]"
      ]
     },
     "execution_count": 3,
     "metadata": {},
     "output_type": "execute_result"
    }
   ],
   "source": [
    "sf.tail()"
   ]
  },
  {
   "cell_type": "code",
   "execution_count": 4,
   "metadata": {},
   "outputs": [
    {
     "data": {
      "text/plain": [
       "[int, str, int, str, str, str]"
      ]
     },
     "execution_count": 4,
     "metadata": {},
     "output_type": "execute_result"
    }
   ],
   "source": [
    "sf.column_types()#note object(in case of pandas df) data types are not convertible when using SFrame datastructure[https://forum.turi.com/discussion/1925/]"
   ]
  },
  {
   "cell_type": "code",
   "execution_count": 5,
   "metadata": {},
   "outputs": [
    {
     "name": "stdout",
     "output_type": "stream",
     "text": [
      "total no. of users, movies:97,79\n"
     ]
    }
   ],
   "source": [
    "# Total no.of users and movies\n",
    "users = sf['userid'].unique().shape[0]\n",
    "items = sf['itemid'].unique().shape[0]\n",
    "print \"total no. of users, movies:\"+ str(users)+\",\"+str(items)"
   ]
  },
  {
   "cell_type": "code",
   "execution_count": 6,
   "metadata": {},
   "outputs": [
    {
     "name": "stdout",
     "output_type": "stream",
     "text": [
      "(4030, 1013)\n"
     ]
    }
   ],
   "source": [
    "#train test split:(80/20 split)\n",
    "SF_train, SF_test = sf.random_split(.8, seed=5)\n",
    "print(len(SF_train), len(SF_test))\n"
   ]
  },
  {
   "cell_type": "code",
   "execution_count": 7,
   "metadata": {},
   "outputs": [],
   "source": [
    "#Modeling: Collaborative Filtering"
   ]
  },
  {
   "cell_type": "code",
   "execution_count": 8,
   "metadata": {},
   "outputs": [],
   "source": [
    "## Item similarity model"
   ]
  },
  {
   "cell_type": "code",
   "execution_count": 9,
   "metadata": {},
   "outputs": [
    {
     "data": {
      "text/html": [
       "<pre>Recsys training: model = item_similarity</pre>"
      ],
      "text/plain": [
       "Recsys training: model = item_similarity"
      ]
     },
     "metadata": {},
     "output_type": "display_data"
    },
    {
     "data": {
      "text/html": [
       "<pre>Warning: Ignoring columns Time, Location, Companion;</pre>"
      ],
      "text/plain": [
       "Warning: Ignoring columns Time, Location, Companion;"
      ]
     },
     "metadata": {},
     "output_type": "display_data"
    },
    {
     "data": {
      "text/html": [
       "<pre>    To use these columns in scoring predictions, use a model that allows the use of additional features.</pre>"
      ],
      "text/plain": [
       "    To use these columns in scoring predictions, use a model that allows the use of additional features."
      ]
     },
     "metadata": {},
     "output_type": "display_data"
    },
    {
     "data": {
      "text/html": [
       "<pre>Preparing data set.</pre>"
      ],
      "text/plain": [
       "Preparing data set."
      ]
     },
     "metadata": {},
     "output_type": "display_data"
    },
    {
     "data": {
      "text/html": [
       "<pre>    Data has 4030 observations with 97 users and 79 items.</pre>"
      ],
      "text/plain": [
       "    Data has 4030 observations with 97 users and 79 items."
      ]
     },
     "metadata": {},
     "output_type": "display_data"
    },
    {
     "data": {
      "text/html": [
       "<pre>    Data prepared in: 0.012675s</pre>"
      ],
      "text/plain": [
       "    Data prepared in: 0.012675s"
      ]
     },
     "metadata": {},
     "output_type": "display_data"
    },
    {
     "data": {
      "text/html": [
       "<pre>Training model from provided data.</pre>"
      ],
      "text/plain": [
       "Training model from provided data."
      ]
     },
     "metadata": {},
     "output_type": "display_data"
    },
    {
     "data": {
      "text/html": [
       "<pre>Gathering per-item and per-user statistics.</pre>"
      ],
      "text/plain": [
       "Gathering per-item and per-user statistics."
      ]
     },
     "metadata": {},
     "output_type": "display_data"
    },
    {
     "data": {
      "text/html": [
       "<pre>+--------------------------------+------------+</pre>"
      ],
      "text/plain": [
       "+--------------------------------+------------+"
      ]
     },
     "metadata": {},
     "output_type": "display_data"
    },
    {
     "data": {
      "text/html": [
       "<pre>| Elapsed Time (Item Statistics) | % Complete |</pre>"
      ],
      "text/plain": [
       "| Elapsed Time (Item Statistics) | % Complete |"
      ]
     },
     "metadata": {},
     "output_type": "display_data"
    },
    {
     "data": {
      "text/html": [
       "<pre>+--------------------------------+------------+</pre>"
      ],
      "text/plain": [
       "+--------------------------------+------------+"
      ]
     },
     "metadata": {},
     "output_type": "display_data"
    },
    {
     "data": {
      "text/html": [
       "<pre>| 1.367ms                        | 100        |</pre>"
      ],
      "text/plain": [
       "| 1.367ms                        | 100        |"
      ]
     },
     "metadata": {},
     "output_type": "display_data"
    },
    {
     "data": {
      "text/html": [
       "<pre>+--------------------------------+------------+</pre>"
      ],
      "text/plain": [
       "+--------------------------------+------------+"
      ]
     },
     "metadata": {},
     "output_type": "display_data"
    },
    {
     "data": {
      "text/html": [
       "<pre>Setting up lookup tables.</pre>"
      ],
      "text/plain": [
       "Setting up lookup tables."
      ]
     },
     "metadata": {},
     "output_type": "display_data"
    },
    {
     "data": {
      "text/html": [
       "<pre>Processing data in one pass using dense lookup tables.</pre>"
      ],
      "text/plain": [
       "Processing data in one pass using dense lookup tables."
      ]
     },
     "metadata": {},
     "output_type": "display_data"
    },
    {
     "data": {
      "text/html": [
       "<pre>+-------------------------------------+------------------+-----------------+</pre>"
      ],
      "text/plain": [
       "+-------------------------------------+------------------+-----------------+"
      ]
     },
     "metadata": {},
     "output_type": "display_data"
    },
    {
     "data": {
      "text/html": [
       "<pre>| Elapsed Time (Constructing Lookups) | Total % Complete | Items Processed |</pre>"
      ],
      "text/plain": [
       "| Elapsed Time (Constructing Lookups) | Total % Complete | Items Processed |"
      ]
     },
     "metadata": {},
     "output_type": "display_data"
    }
   ],
   "source": [
    "itemSimilarity_model = gl.item_similarity_recommender.create(SF_train, user_id='userid', item_id='itemid', target='rating', similarity_type='pearson')"
   ]
  },
  {
   "cell_type": "code",
   "execution_count": 10,
   "metadata": {},
   "outputs": [
    {
     "data": {
      "text/html": [
       "<pre>+-------------------------------------+------------------+-----------------+</pre>"
      ],
      "text/plain": [
       "+-------------------------------------+------------------+-----------------+"
      ]
     },
     "metadata": {},
     "output_type": "display_data"
    },
    {
     "data": {
      "text/html": [
       "<pre>| 2.299ms                             | 0                | 0               |</pre>"
      ],
      "text/plain": [
       "| 2.299ms                             | 0                | 0               |"
      ]
     },
     "metadata": {},
     "output_type": "display_data"
    },
    {
     "data": {
      "text/html": [
       "<pre>| 8.999ms                             | 100              | 79              |</pre>"
      ],
      "text/plain": [
       "| 8.999ms                             | 100              | 79              |"
      ]
     },
     "metadata": {},
     "output_type": "display_data"
    },
    {
     "data": {
      "text/html": [
       "<pre>+-------------------------------------+------------------+-----------------+</pre>"
      ],
      "text/plain": [
       "+-------------------------------------+------------------+-----------------+"
      ]
     },
     "metadata": {},
     "output_type": "display_data"
    },
    {
     "data": {
      "text/html": [
       "<pre>Finalizing lookup tables.</pre>"
      ],
      "text/plain": [
       "Finalizing lookup tables."
      ]
     },
     "metadata": {},
     "output_type": "display_data"
    },
    {
     "data": {
      "text/html": [
       "<pre>Generating candidate set for working with new users.</pre>"
      ],
      "text/plain": [
       "Generating candidate set for working with new users."
      ]
     },
     "metadata": {},
     "output_type": "display_data"
    },
    {
     "data": {
      "text/html": [
       "<pre>Finished training in 1.0124s</pre>"
      ],
      "text/plain": [
       "Finished training in 1.0124s"
      ]
     },
     "metadata": {},
     "output_type": "display_data"
    },
    {
     "name": "stdout",
     "output_type": "stream",
     "text": [
      "+-----------+-----------+----------------+------+\n",
      "|   itemid  |  similar  |     score      | rank |\n",
      "+-----------+-----------+----------------+------+\n",
      "| tt1499658 | tt1478338 | 0.29923593998  |  1   |\n",
      "| tt0405422 | tt2251217 | 0.243927121162 |  1   |\n",
      "| tt0109830 | tt0110357 | 0.420491039753 |  1   |\n",
      "| tt0088763 | tt0109830 | 0.41255402565  |  1   |\n",
      "| tt0133093 | tt1657301 | 0.33416980505  |  1   |\n",
      "| tt0800369 | tt0319262 | 0.344946742058 |  1   |\n",
      "| tt0266543 | tt0110357 | 0.253341197968 |  1   |\n",
      "| tt1632708 | tt1596343 | 0.320347070694 |  1   |\n",
      "| tt4052394 | tt1133985 | 0.271005630493 |  1   |\n",
      "| tt1596343 | tt1632708 | 0.320347070694 |  1   |\n",
      "| tt2574698 | tt0266543 | 0.234904289246 |  1   |\n",
      "| tt0454848 | tt1232829 | 0.26954716444  |  1   |\n",
      "| tt0378194 | tt0114148 | 0.349371314049 |  1   |\n",
      "| tt0211915 | tt1453405 | 0.198636829853 |  1   |\n",
      "| tt0169547 | tt0327084 | 0.311162769794 |  1   |\n",
      "| tt0454876 | tt0110357 | 0.259337067604 |  1   |\n",
      "| tt0181689 | tt0213149 | 0.31661683321  |  1   |\n",
      "| tt0120912 | tt0110357 | 0.256520867348 |  1   |\n",
      "| tt3637328 | tt1369829 | 0.424496173859 |  1   |\n",
      "| tt1657301 | tt0133093 | 0.33416980505  |  1   |\n",
      "| tt0319262 | tt0800369 | 0.344946742058 |  1   |\n",
      "| tt1369829 | tt3637328 | 0.424496173859 |  1   |\n",
      "| tt0120338 | tt0110357 | 0.295739352703 |  1   |\n",
      "| tt0289879 | tt0343660 | 0.237942397594 |  1   |\n",
      "| tt0114148 | tt0378194 | 0.349371314049 |  1   |\n",
      "+-----------+-----------+----------------+------+\n",
      "[79 rows x 4 columns]\n",
      "\n"
     ]
    }
   ],
   "source": [
    "nn = itemSimilarity_model.get_similar_items(k=1)\n",
    "nn.print_rows(num_rows=25)"
   ]
  },
  {
   "cell_type": "code",
   "execution_count": 11,
   "metadata": {},
   "outputs": [
    {
     "name": "stdout",
     "output_type": "stream",
     "text": [
      "+--------+-----------+---------------+------+\n",
      "| userid |   itemid  |     score     | rank |\n",
      "+--------+-----------+---------------+------+\n",
      "|  1123  | tt0315733 | 4.36417872508 |  1   |\n",
      "|  1090  | tt0315733 | 4.33333333333 |  1   |\n",
      "|  1088  | tt0315733 | 4.33333333333 |  1   |\n",
      "|  1110  | tt0315733 | 4.32672772805 |  1   |\n",
      "|  1017  | tt1375666 | 4.44378136334 |  1   |\n",
      "|  1021  | tt0315733 | 4.30754718894 |  1   |\n",
      "|  1095  | tt0315733 | 4.33333333333 |  1   |\n",
      "|  1106  | tt0315733 | 4.33333333333 |  1   |\n",
      "|  1102  | tt0315733 | 4.33333333333 |  1   |\n",
      "|  1117  | tt0315733 | 4.39074804386 |  1   |\n",
      "|  1091  | tt0315733 |  4.3335228314 |  1   |\n",
      "|  1025  | tt0315733 | 4.33333333333 |  1   |\n",
      "|  1108  | tt0109830 | 4.39838058395 |  1   |\n",
      "|  1020  | tt0315733 | 4.32684457799 |  1   |\n",
      "|  1003  | tt0315733 |  4.3166179217 |  1   |\n",
      "|  1019  | tt0315733 | 4.34729182919 |  1   |\n",
      "|  1046  | tt0315733 |  4.3212606286 |  1   |\n",
      "|  1067  | tt0315733 | 4.31862295171 |  1   |\n",
      "|  1018  | tt0315733 | 4.30402213087 |  1   |\n",
      "|  1007  | tt0315733 | 4.33333333333 |  1   |\n",
      "|  1009  | tt0315733 |  4.3161147808 |  1   |\n",
      "|  1048  | tt0315733 |  4.3370427688 |  1   |\n",
      "|  1057  | tt0315733 | 4.33333333333 |  1   |\n",
      "|  1030  | tt0315733 | 4.26984578868 |  1   |\n",
      "|  1094  | tt0315733 | 4.34716581677 |  1   |\n",
      "+--------+-----------+---------------+------+\n",
      "[97 rows x 4 columns]\n",
      "\n"
     ]
    }
   ],
   "source": [
    "itemSimilarity_recomm = itemSimilarity_model.recommend(k=1)\n",
    "itemSimilarity_recomm.print_rows(num_rows=25)"
   ]
  },
  {
   "cell_type": "code",
   "execution_count": 12,
   "metadata": {},
   "outputs": [],
   "source": [
    "#lets check dataset for itemid = tt0109830 alone:\n",
    "userid_ofValue1 = sf[sf['itemid'] == 'tt0109830']"
   ]
  },
  {
   "cell_type": "code",
   "execution_count": 13,
   "metadata": {},
   "outputs": [
    {
     "name": "stdout",
     "output_type": "stream",
     "text": [
      "+--------+-----------+--------+---------+----------+-----------+\n",
      "| userid |   itemid  | rating |   Time  | Location | Companion |\n",
      "+--------+-----------+--------+---------+----------+-----------+\n",
      "|  1123  | tt0109830 |   5    |   None  |   None   |    None   |\n",
      "|  1025  | tt0109830 |   5    |   None  |   None   |    None   |\n",
      "|  1082  | tt0109830 |   5    |   None  |   None   |    None   |\n",
      "|  1058  | tt0109830 |   5    |   None  |   None   |    None   |\n",
      "|  1116  | tt0109830 |   5    | Weekend |  Cinema  |  Partner  |\n",
      "|  1116  | tt0109830 |   5    | Weekday |  Cinema  |   Alone   |\n",
      "|  1116  | tt0109830 |   5    |   None  |   None   |    None   |\n",
      "|  1059  | tt0109830 |   5    | Weekend |  Cinema  |   Family  |\n",
      "|  1098  | tt0109830 |   5    |   None  |   None   |    None   |\n",
      "|  1002  | tt0109830 |   5    |   None  |   None   |    None   |\n",
      "|  1069  | tt0109830 |   5    | Weekend |  Cinema  |  Partner  |\n",
      "|  1002  | tt0109830 |   5    | Weekend |   Home   |  Partner  |\n",
      "|  1113  | tt0109830 |   5    |   None  |   None   |    None   |\n",
      "|  1113  | tt0109830 |   5    | Weekend |  Cinema  |   Alone   |\n",
      "|  1113  | tt0109830 |   5    | Weekday |   Home   |  Partner  |\n",
      "|  1113  | tt0109830 |   5    | Weekend |   Home   |  Partner  |\n",
      "|  1054  | tt0109830 |   5    |   None  |   None   |    None   |\n",
      "|  1054  | tt0109830 |   5    | Weekend |   Home   |   Family  |\n",
      "|  1054  | tt0109830 |   5    | Weekend |  Cinema  |  Partner  |\n",
      "|  1054  | tt0109830 |   5    | Weekday |   Home   |  Partner  |\n",
      "|  1068  | tt0109830 |   5    |   None  |   None   |    None   |\n",
      "|  1069  | tt0109830 |   5    | Weekday |  Cinema  |   Family  |\n",
      "|  1069  | tt0109830 |   5    | Weekend |   Home   |   Alone   |\n",
      "|  1068  | tt0109830 |   5    | Weekday |  Cinema  |   Family  |\n",
      "|  1055  | tt0109830 |   5    |   None  |   None   |    None   |\n",
      "|  1069  | tt0109830 |   5    |   None  |   None   |    None   |\n",
      "|  1055  | tt0109830 |   5    | Weekday |  Cinema  |  Partner  |\n",
      "|  1055  | tt0109830 |   5    | Weekend |  Cinema  |  Partner  |\n",
      "|  1049  | tt0109830 |   5    |   None  |   None   |    None   |\n",
      "|  1053  | tt0109830 |   5    | Weekend |   Home   |  Partner  |\n",
      "|  1053  | tt0109830 |   5    |   None  |   None   |    None   |\n",
      "|  1049  | tt0109830 |   5    | Weekend |  Cinema  |  Partner  |\n",
      "|  1070  | tt0109830 |   5    |   None  |   None   |    None   |\n",
      "|  1070  | tt0109830 |   5    | Weekday |   Home   |   Alone   |\n",
      "|  1070  | tt0109830 |   5    | Weekend |   Home   |   Family  |\n",
      "|  1070  | tt0109830 |   5    | Weekend |  Cinema  |   Family  |\n",
      "|  1071  | tt0109830 |   5    | Weekend |   Home   |   Family  |\n",
      "|  1071  | tt0109830 |   5    |   None  |   None   |    None   |\n",
      "|  1033  | tt0109830 |   5    | Weekend |  Cinema  |   Family  |\n",
      "|  1033  | tt0109830 |   5    | Weekday |  Cinema  |   Family  |\n",
      "|  1044  | tt0109830 |   5    |   None  |   None   |    None   |\n",
      "|  1044  | tt0109830 |   5    | Weekend |   Home   |   Alone   |\n",
      "|  1033  | tt0109830 |   5    | Weekend |   Home   |   Alone   |\n",
      "|  1033  | tt0109830 |   5    |   None  |   None   |    None   |\n",
      "|  1015  | tt0109830 |   5    | Weekday |   Home   |   Family  |\n",
      "|  1015  | tt0109830 |   5    | Weekday |   Home   |   Alone   |\n",
      "|  1015  | tt0109830 |   5    |   None  |   None   |    None   |\n",
      "|  1006  | tt0109830 |   5    |   None  |   None   |    None   |\n",
      "|  1028  | tt0109830 |   5    |   None  |   None   |    None   |\n",
      "|  1082  | tt0109830 |   5    | Weekday |  Cinema  |  Partner  |\n",
      "|  1082  | tt0109830 |   4    | Weekend |   Home   |   Family  |\n",
      "|  1098  | tt0109830 |   4    | Weekend |  Cinema  |   Family  |\n",
      "|  1077  | tt0109830 |   4    | Weekend |   Home   |   Family  |\n",
      "|  1098  | tt0109830 |   4    | Weekend |   Home   |   Family  |\n",
      "|  1098  | tt0109830 |   4    | Weekend |  Cinema  |   Alone   |\n",
      "|  1077  | tt0109830 |   4    | Weekend |   Home   |   Alone   |\n",
      "|  1077  | tt0109830 |   4    | Weekday |   Home   |   Alone   |\n",
      "|  1077  | tt0109830 |   4    |   None  |   None   |    None   |\n",
      "|  1041  | tt0109830 |   4    |   None  |   None   |    None   |\n",
      "|  1059  | tt0109830 |   4    | Weekday |  Cinema  |  Partner  |\n",
      "+--------+-----------+--------+---------+----------+-----------+\n",
      "[102 rows x 6 columns]\n",
      "\n"
     ]
    }
   ],
   "source": [
    "userid_ofValue1.sort(sort_columns='rating', ascending=False).print_rows(num_rows=60)"
   ]
  },
  {
   "cell_type": "markdown",
   "metadata": {},
   "source": [
    "## Prediction/recommendation for test case:\n",
    "[https://turi.com/products/create/docs/generated/graphlab.recommender.item_similarity_recommender.create.html#graphlab.recommender.item_similarity_recommender.create]"
   ]
  },
  {
   "cell_type": "code",
   "execution_count": 14,
   "metadata": {},
   "outputs": [
    {
     "name": "stdout",
     "output_type": "stream",
     "text": [
      "+--------+-----------+---------------+------+\n",
      "| userid |   itemid  |     score     | rank |\n",
      "+--------+-----------+---------------+------+\n",
      "|  1123  | tt0315733 | 4.36417872508 |  1   |\n",
      "|  1123  | tt1375666 | 4.22757187224 |  2   |\n",
      "|  1090  | tt0315733 | 4.33333333333 |  1   |\n",
      "|  1090  | tt1375666 | 4.22517167835 |  2   |\n",
      "|  1088  | tt0315733 | 4.33333333333 |  1   |\n",
      "|  1088  | tt0109830 |  4.2661312336 |  2   |\n",
      "|  1110  | tt0315733 | 4.32672772805 |  1   |\n",
      "|  1110  | tt1375666 | 4.18607777096 |  2   |\n",
      "|  1017  | tt1375666 | 4.44378136334 |  1   |\n",
      "|  1017  | tt0109830 | 4.33797483785 |  2   |\n",
      "|  1021  | tt0315733 | 4.30754718894 |  1   |\n",
      "|  1021  | tt1375666 | 4.23435307565 |  2   |\n",
      "|  1095  | tt0315733 | 4.33333333333 |  1   |\n",
      "|  1095  | tt1375666 | 4.27344216145 |  2   |\n",
      "|  1106  | tt0315733 | 4.33333333333 |  1   |\n",
      "|  1106  | tt1375666 |  4.2651803527 |  2   |\n",
      "|  1102  | tt0315733 | 4.33333333333 |  1   |\n",
      "|  1102  | tt1375666 | 4.26863509155 |  2   |\n",
      "|  1117  | tt0315733 | 4.39074804386 |  1   |\n",
      "|  1117  | tt1375666 | 4.31044192847 |  2   |\n",
      "|  1091  | tt0315733 |  4.3335228314 |  1   |\n",
      "|  1091  | tt1375666 | 4.23997938372 |  2   |\n",
      "|  1025  | tt0315733 | 4.33333333333 |  1   |\n",
      "|  1025  | tt1375666 |  4.2299637362 |  2   |\n",
      "|  1108  | tt0109830 | 4.39838058395 |  1   |\n",
      "|  1108  | tt1375666 | 4.36159865297 |  2   |\n",
      "|  1020  | tt0315733 | 4.32684457799 |  1   |\n",
      "|  1020  | tt1375666 | 4.23343363888 |  2   |\n",
      "|  1003  | tt0315733 |  4.3166179217 |  1   |\n",
      "|  1003  | tt0441773 | 4.14965136373 |  2   |\n",
      "|  1019  | tt0315733 | 4.34729182919 |  1   |\n",
      "|  1019  | tt0109830 | 4.29399204595 |  2   |\n",
      "|  1046  | tt0315733 |  4.3212606286 |  1   |\n",
      "|  1046  | tt0441773 | 4.15727693931 |  2   |\n",
      "|  1067  | tt0315733 | 4.31862295171 |  1   |\n",
      "|  1067  | tt0441773 | 4.17303739831 |  2   |\n",
      "|  1018  | tt0315733 | 4.30402213087 |  1   |\n",
      "|  1018  | tt1375666 | 4.24894591905 |  2   |\n",
      "|  1007  | tt0315733 | 4.33333333333 |  1   |\n",
      "|  1007  | tt1375666 | 4.24853229261 |  2   |\n",
      "|  1009  | tt0315733 |  4.3161147808 |  1   |\n",
      "|  1009  | tt1375666 | 4.25979911275 |  2   |\n",
      "|  1048  | tt0315733 |  4.3370427688 |  1   |\n",
      "|  1048  | tt1375666 |  4.272631732  |  2   |\n",
      "|  1057  | tt0315733 | 4.33333333333 |  1   |\n",
      "|  1057  | tt1375666 | 4.23258279897 |  2   |\n",
      "|  1030  | tt0315733 | 4.26984578868 |  1   |\n",
      "|  1030  | tt0441773 | 4.18483341828 |  2   |\n",
      "|  1094  | tt0315733 | 4.34716581677 |  1   |\n",
      "|  1094  | tt0109830 | 4.22628708822 |  2   |\n",
      "+--------+-----------+---------------+------+\n",
      "[194 rows x 4 columns]\n",
      "\n"
     ]
    }
   ],
   "source": [
    "itemSimilarity_model.predict(SF_test)\n",
    "itemSimilarity_model.recommend(k=2).print_rows(num_rows=50, num_columns=4)"
   ]
  },
  {
   "cell_type": "code",
   "execution_count": 15,
   "metadata": {},
   "outputs": [
    {
     "name": "stdout",
     "output_type": "stream",
     "text": [
      "+--------+-----------+--------+---------+----------+-----------+\n",
      "| userid |   itemid  | rating |   Time  | Location | Companion |\n",
      "+--------+-----------+--------+---------+----------+-----------+\n",
      "|  1088  | tt0405422 |   4    |   None  |   None   |    None   |\n",
      "|  1088  | tt0133093 |   5    |   None  |   None   |    None   |\n",
      "|  1017  | tt1190080 |   5    |   None  |   None   |    None   |\n",
      "|  1017  | tt0454876 |   5    |   None  |   None   |    None   |\n",
      "|  1021  | tt1099212 |   5    |   None  |   None   |    None   |\n",
      "|  1095  | tt1478338 |   5    |   None  |   None   |    None   |\n",
      "|  1106  | tt1657301 |   4    |   None  |   None   |    None   |\n",
      "|  1106  | tt0407304 |   4    |   None  |   None   |    None   |\n",
      "|  1117  | tt0120338 |   5    |   None  |   None   |    None   |\n",
      "|  1117  | tt3510098 |   4    |   None  |   None   |    None   |\n",
      "|  1117  | tt1375666 |   5    |   None  |   None   |    None   |\n",
      "|  1091  | tt0111161 |   5    |   None  |   None   |    None   |\n",
      "|  1025  | tt0413267 |   5    |   None  |   None   |    None   |\n",
      "|  1025  | tt0133093 |   4    |   None  |   None   |    None   |\n",
      "|  1108  | tt0266543 |   5    |   None  |   None   |    None   |\n",
      "|  1108  | tt2096673 |   5    |   None  |   None   |    None   |\n",
      "|  1108  | tt0114148 |   5    |   None  |   None   |    None   |\n",
      "|  1020  | tt0319262 |   4    |   None  |   None   |    None   |\n",
      "|  1019  | tt0266543 |   5    |   None  |   None   |    None   |\n",
      "|  1019  | tt0110357 |   5    |   None  |   None   |    None   |\n",
      "|  1019  | tt0114369 |   5    |   None  |   None   |    None   |\n",
      "|  1019  | tt0945513 |   5    |   None  |   None   |    None   |\n",
      "|  1067  | tt1099212 |   5    |   None  |   None   |    None   |\n",
      "|  1067  | tt3793764 |   5    | Weekend |  Cinema  |  Partner  |\n",
      "|  1067  | tt0356910 |   5    | Weekend |   Home   |  Partner  |\n",
      "|  1007  | tt0441773 |   5    | Weekday |   Home   |   Family  |\n",
      "|  1007  | tt0232500 |   5    | Weekday |   Home   |   Family  |\n",
      "|  1007  | tt0319262 |   5    | Weekend |   Home   |   Family  |\n",
      "|  1048  | tt1190080 |   4    |   None  |   None   |    None   |\n",
      "|  1048  | tt1369829 |   4    |   None  |   None   |    None   |\n",
      "|  1048  | tt0454876 |   4    |   None  |   None   |    None   |\n",
      "|  1048  | tt0213149 |   4    | Weekend |   Home   |  Partner  |\n",
      "|  1057  | tt0133093 |   5    | Weekend |  Cinema  |  Partner  |\n",
      "|  1030  | tt0138097 |   5    |   None  |   None   |    None   |\n",
      "|  1094  | tt0120912 |   4    |   None  |   None   |    None   |\n",
      "|  1094  | tt1657301 |   5    |   None  |   None   |    None   |\n",
      "|  1094  | tt0405422 |   5    |   None  |   None   |    None   |\n",
      "|  1094  | tt1478338 |   5    |   None  |   None   |    None   |\n",
      "|  1094  | tt0289879 |   5    |   None  |   None   |    None   |\n",
      "|  1107  | tt1632708 |   5    |   None  |   None   |    None   |\n",
      "|  1107  | tt0120338 |   5    |   None  |   None   |    None   |\n",
      "|  1066  | tt0211915 |   5    |   None  |   None   |    None   |\n",
      "|  1066  | tt0120912 |   5    | Weekday |   Home   |  Partner  |\n",
      "|  1122  | tt0441773 |   4    | Weekend |  Cinema  |   Alone   |\n",
      "|  1122  | tt0120338 |   5    | Weekend |  Cinema  |   Alone   |\n",
      "|  1122  | tt0441773 |   4    | Weekday |  Cinema  |   Family  |\n",
      "|  1074  | tt1657301 |   4    |   None  |   None   |    None   |\n",
      "|  1074  | tt0993846 |   4    |   None  |   None   |    None   |\n",
      "|  1074  | tt1375666 |   4    | Weekday |  Cinema  |   Family  |\n",
      "|  1074  | tt0356910 |   4    | Weekday |  Cinema  |  Partner  |\n",
      "+--------+-----------+--------+---------+----------+-----------+\n",
      "[526 rows x 6 columns]\n",
      "\n"
     ]
    }
   ],
   "source": [
    "#Checking the performance of our recommender ; here using 4,5 as the best recommendation\n",
    "SF_test[SF_test['rating'] > 3].print_rows(num_rows=50)"
   ]
  }
 ],
 "metadata": {
  "kernelspec": {
   "display_name": "Python 2",
   "language": "python",
   "name": "python2"
  },
  "language_info": {
   "codemirror_mode": {
    "name": "ipython",
    "version": 2
   },
   "file_extension": ".py",
   "mimetype": "text/x-python",
   "name": "python",
   "nbconvert_exporter": "python",
   "pygments_lexer": "ipython2",
   "version": "2.7.12"
  }
 },
 "nbformat": 4,
 "nbformat_minor": 2
}
